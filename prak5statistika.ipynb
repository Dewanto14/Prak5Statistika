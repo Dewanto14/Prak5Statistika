{
 "cells": [
  {
   "cell_type": "code",
   "execution_count": 1,
   "id": "a58a6d44",
   "metadata": {},
   "outputs": [
    {
     "name": "stdout",
     "output_type": "stream",
     "text": [
      "Probabilitas tinggi kurang dari 189 cm: 0.8413447460685429\n"
     ]
    }
   ],
   "source": [
    "from scipy.stats import norm\n",
    "\n",
    "mean = 184\n",
    "sd = 5\n",
    "\n",
    "height = 189\n",
    "prob_less_than_189 = norm.cdf(height, mean, sd)\n",
    "\n",
    "print(\"Probabilitas tinggi kurang dari 189 cm:\", prob_less_than_189)"
   ]
  },
  {
   "cell_type": "code",
   "execution_count": 2,
   "id": "dc225c74",
   "metadata": {},
   "outputs": [
    {
     "name": "stdout",
     "output_type": "stream",
     "text": [
      "Probabilitas tinggi badan antara 174 cm dan 199 cm: 0.9758999700201907\n"
     ]
    }
   ],
   "source": [
    "from scipy.stats import norm\n",
    "\n",
    "mean = 184\n",
    "sd = 5\n",
    "\n",
    "prob_less_than_174 = norm.cdf(174, mean, sd)\n",
    "\n",
    "prob_less_than_199 = norm.cdf(199, mean, sd)\n",
    "\n",
    "prob_between_174_and_199 = prob_less_than_199 - prob_less_than_174\n",
    "\n",
    "print(\"Probabilitas tinggi badan antara 174 cm dan 199 cm:\", prob_between_174_and_199)"
   ]
  },
  {
   "cell_type": "code",
   "execution_count": 3,
   "id": "11dfb389",
   "metadata": {},
   "outputs": [
    {
     "name": "stdout",
     "output_type": "stream",
     "text": [
      "Peluang apel yang berkualitas 'not good': 0.0595\n"
     ]
    }
   ],
   "source": [
    "from scipy.stats import norm\n",
    "\n",
    "mean = 173\n",
    "sd = 34\n",
    "\n",
    "prob_not_good = norm.cdf(120, mean, sd)\n",
    "\n",
    "print(\"Peluang apel yang berkualitas 'not good': {:.4f}\".format(prob_not_good))"
   ]
  },
  {
   "cell_type": "code",
   "execution_count": 4,
   "id": "49e6e43f",
   "metadata": {},
   "outputs": [
    {
     "name": "stdout",
     "output_type": "stream",
     "text": [
      "Rata-rata jumlah pelanggan dalam sistem (L): 4.00\n",
      "Rata-rata jumlah pelanggan dalam sistem (W): 40.00\n"
     ]
    }
   ],
   "source": [
    "arrival_rate = 1/10\n",
    "service_rate = 1/8\n",
    "\n",
    "L = arrival_rate / (service_rate - arrival_rate)\n",
    "\n",
    "W = L / arrival_rate\n",
    "\n",
    "print(\"Rata-rata jumlah pelanggan dalam sistem (L): {:.2f}\".format(L))\n",
    "print(\"Rata-rata jumlah pelanggan dalam sistem (W): {:.2f}\".format(W))"
   ]
  },
  {
   "cell_type": "code",
   "execution_count": 6,
   "id": "f8303ba5",
   "metadata": {},
   "outputs": [
    {
     "name": "stdout",
     "output_type": "stream",
     "text": [
      "Peluang seseorang dilayani antara 3 sampai 5 menit: 0.1618974\n"
     ]
    }
   ],
   "source": [
    "from scipy.stats import expon \n",
    "\n",
    "mean_s_time = 7\n",
    "\n",
    "prob_between_3_and_5 = expon.cdf(5, scale=mean_s_time) - expon.cdf(3, scale=mean_s_time)\n",
    "\n",
    "print(\"Peluang seseorang dilayani antara 3 sampai 5 menit: {:.7f}\".format(prob_between_3_and_5))"
   ]
  },
  {
   "cell_type": "code",
   "execution_count": 7,
   "id": "3aea931c",
   "metadata": {
    "scrolled": true
   },
   "outputs": [
    {
     "name": "stdout",
     "output_type": "stream",
     "text": [
      "Peluang lebih dari 6 pelanggan akan tiba dalam periode 2 menit berikutnya: 0.8698586\n"
     ]
    }
   ],
   "source": [
    "from scipy.stats import poisson\n",
    "\n",
    "mean_arrivale_rate = 5\n",
    "prob_more_than_6_arrivals = 1 - poisson.cdf(6, mu=mean_arrivale_rate * 2)\n",
    "\n",
    "print(\"Peluang lebih dari 6 pelanggan akan tiba dalam periode 2 menit berikutnya: {:.7f}\".format(prob_more_than_6_arrivals))"
   ]
  },
  {
   "cell_type": "code",
   "execution_count": 9,
   "id": "b85bb010",
   "metadata": {},
   "outputs": [
    {
     "name": "stdout",
     "output_type": "stream",
     "text": [
      "Tinggi sedemikian rupa sehingga 16,85% pemain basket lebih tinggi dari 188.80 cm\n"
     ]
    }
   ],
   "source": [
    "from scipy.stats import norm\n",
    "\n",
    "mean = 184\n",
    "sd = 5\n",
    "\n",
    "prob_more_than = 1 - 0.1685\n",
    "height = norm.ppf(prob_more_than, mean, sd)\n",
    "\n",
    "print(\"Tinggi sedemikian rupa sehingga 16,85% pemain basket lebih tinggi dari {:.2f} cm\".format(height))\n",
    "    "
   ]
  },
  {
   "cell_type": "code",
   "execution_count": 10,
   "id": "72e6f6ed",
   "metadata": {},
   "outputs": [
    {
     "name": "stdout",
     "output_type": "stream",
     "text": [
      "Probabilitas kurang dari satu sama dengan 2 apel berkualitas 'not good' : 0.9903771\n"
     ]
    }
   ],
   "source": [
    "from scipy.stats import binom\n",
    "\n",
    "n = 8\n",
    "p = 0.06\n",
    "\n",
    "prob_not_good_2_or_less = binom.cdf(2, n, p)\n",
    "\n",
    "print(\"Probabilitas kurang dari satu sama dengan 2 apel berkualitas 'not good' : {:.7f}\".format(prob_not_good_2_or_less))"
   ]
  },
  {
   "cell_type": "code",
   "execution_count": 13,
   "id": "97b9138f",
   "metadata": {},
   "outputs": [
    {
     "name": "stdout",
     "output_type": "stream",
     "text": [
      "Rata-rata jumlah pelanggan dalam sistem (L) setelah perubahan: 1.00\n",
      "Rata-rata waktu setiap pelanggan berada dalam sistem (W) setelah perubahan: 16.00\n"
     ]
    }
   ],
   "source": [
    "arrival_rate = 1/10\n",
    "service_rate = 1/8\n",
    "arrival_rate_new = 1/16\n",
    "\n",
    "L_new = arrival_rate_new / (service_rate - arrival_rate_new)\n",
    "\n",
    "W_new = L_new / arrival_rate_new\n",
    "print(\"Rata-rata jumlah pelanggan dalam sistem (L) setelah perubahan: {:.2f}\".format(L_new))\n",
    "print(\"Rata-rata waktu setiap pelanggan berada dalam sistem (W) setelah perubahan: {:.2f}\".format(W_new))"
   ]
  },
  {
   "cell_type": "code",
   "execution_count": 14,
   "id": "ea8188d2",
   "metadata": {},
   "outputs": [
    {
     "name": "stdout",
     "output_type": "stream",
     "text": [
      "Peluang seseorang mendapatkan pelayanan lebih dari 8 menit: 0.3189066\n"
     ]
    }
   ],
   "source": [
    "from scipy.stats import expon\n",
    "\n",
    "mean_service_time = 7\n",
    "\n",
    "prob_more_than_8_minutes = 1 - expon.cdf(8, scale=mean_service_time)\n",
    "\n",
    "print(\"Peluang seseorang mendapatkan pelayanan lebih dari 8 menit: {:.7f}\".format(prob_more_than_8_minutes))"
   ]
  },
  {
   "cell_type": "code",
   "execution_count": 16,
   "id": "7a546deb",
   "metadata": {},
   "outputs": [
    {
     "name": "stdout",
     "output_type": "stream",
     "text": [
      "Peluang bahwa dalam 1 menit berikutnya terdapat tepat 4 pelanggan yang akan datang: 0.1754674\n"
     ]
    }
   ],
   "source": [
    "from scipy.stats import poisson\n",
    "\n",
    "mean_arrival_rate = 5\n",
    "\n",
    "prob_4_arrivals = poisson.pmf(4, mu=mean_arrival_rate)\n",
    "\n",
    "print(\"Peluang bahwa dalam 1 menit berikutnya terdapat tepat 4 pelanggan yang akan datang: {:.7f}\".format(prob_4_arrivals))"
   ]
  },
  {
   "cell_type": "code",
   "execution_count": 17,
   "id": "60749369",
   "metadata": {},
   "outputs": [
    {
     "name": "stdout",
     "output_type": "stream",
     "text": [
      "Rata-rata jumlah kedatangan selama periode 1 jam: 300.00\n"
     ]
    }
   ],
   "source": [
    "mean_arrival_rate = 5\n",
    "\n",
    "mean_arrival_per_hour = mean_arrival_rate * 60\n",
    "\n",
    "print(\"Rata-rata jumlah kedatangan selama periode 1 jam: {:.2f}\".format(mean_arrival_per_hour))"
   ]
  },
  {
   "cell_type": "code",
   "execution_count": null,
   "id": "505dc45a",
   "metadata": {},
   "outputs": [],
   "source": []
  }
 ],
 "metadata": {
  "kernelspec": {
   "display_name": "Python 3 (ipykernel)",
   "language": "python",
   "name": "python3"
  },
  "language_info": {
   "codemirror_mode": {
    "name": "ipython",
    "version": 3
   },
   "file_extension": ".py",
   "mimetype": "text/x-python",
   "name": "python",
   "nbconvert_exporter": "python",
   "pygments_lexer": "ipython3",
   "version": "3.11.4"
  }
 },
 "nbformat": 4,
 "nbformat_minor": 5
}
